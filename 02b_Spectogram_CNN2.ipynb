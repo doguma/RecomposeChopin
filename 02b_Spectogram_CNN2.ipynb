{
 "cells": [
  {
   "cell_type": "markdown",
   "metadata": {
    "colab_type": "text",
    "id": "view-in-github"
   },
   "source": [
    "<a href=\"https://colab.research.google.com/github/CSCCNY/final-project-recomposeclassics/blob/main/02_Spectogram_CNN.ipynb\" target=\"_parent\"><img src=\"https://colab.research.google.com/assets/colab-badge.svg\" alt=\"Open In Colab\"/></a>"
   ]
  },
  {
   "cell_type": "markdown",
   "metadata": {
    "id": "FmmL-F2xBABd"
   },
   "source": [
    "## Recompose Classics : **Import Data & Run CNN Model**\n",
    "Hannah Do\n",
    "\n",
    "May 10th, 2021\n",
    "\n",
    "\n",
    "\n",
    "---\n",
    "\n",
    "\n",
    "##### **Summary**\n",
    "\n",
    "1. Running **spectogram arrays** in KNN model\n",
    "\n",
    "\n",
    "2. Running **spectogram arrays** in Basic CNN model\n",
    "\n",
    "\n",
    "3. Running **spectogram arrays** in different complex CNN models\n",
    "\n",
    "---"
   ]
  },
  {
   "cell_type": "markdown",
   "metadata": {
    "id": "f8Ssu3qZCRUi"
   },
   "source": [
    "**Import saved array** - combined specto arrays from notebook 2b"
   ]
  },
  {
   "cell_type": "code",
   "execution_count": 2,
   "metadata": {
    "id": "rIbvrjFCPbXn"
   },
   "outputs": [],
   "source": [
    "import numpy as np\n",
    "import os\n",
    "import matplotlib.pyplot as plt\n",
    "\n",
    "import librosa\n",
    "import librosa.display\n",
    "\n",
    "import IPython.display as ipd\n",
    "\n",
    "import numpy as np\n",
    "import random\n",
    "\n",
    "from scipy.io.wavfile import write"
   ]
  },
  {
   "cell_type": "code",
   "execution_count": 54,
   "metadata": {
    "colab": {
     "base_uri": "https://localhost:8080/"
    },
    "id": "BzpuEP_5xLzB",
    "outputId": "97b54783-e3a8-4c9d-c23f-14963e5ac8bc"
   },
   "outputs": [
    {
     "data": {
      "text/plain": [
       "(1275, 128, 646)"
      ]
     },
     "execution_count": 54,
     "metadata": {},
     "output_type": "execute_result"
    }
   ],
   "source": [
    "x_train = np.load(\"/Users/SAMSUNG/Downloads/dnn_data/x_train.npy\")\n",
    "\n",
    "x_train.shape"
   ]
  },
  {
   "cell_type": "code",
   "execution_count": 55,
   "metadata": {},
   "outputs": [
    {
     "data": {
      "text/plain": [
       "(1275, 128, 646)"
      ]
     },
     "execution_count": 55,
     "metadata": {},
     "output_type": "execute_result"
    }
   ],
   "source": [
    "y_train = np.load(\"/Users/SAMSUNG/Downloads/dnn_data/y_train.npy\")\n",
    "\n",
    "y_train.shape"
   ]
  },
  {
   "cell_type": "code",
   "execution_count": 56,
   "metadata": {},
   "outputs": [
    {
     "data": {
      "text/plain": [
       "(158, 128, 646)"
      ]
     },
     "execution_count": 56,
     "metadata": {},
     "output_type": "execute_result"
    }
   ],
   "source": [
    "x_test = np.load(\"/Users/SAMSUNG/Downloads/dnn_data/x_test.npy\")\n",
    "\n",
    "x_test.shape"
   ]
  },
  {
   "cell_type": "code",
   "execution_count": 57,
   "metadata": {},
   "outputs": [
    {
     "data": {
      "text/plain": [
       "(158, 128, 646)"
      ]
     },
     "execution_count": 57,
     "metadata": {},
     "output_type": "execute_result"
    }
   ],
   "source": [
    "y_test = np.load(\"/Users/SAMSUNG/Downloads/dnn_data/y_test.npy\")\n",
    "\n",
    "y_test.shape"
   ]
  },
  {
   "cell_type": "code",
   "execution_count": 15,
   "metadata": {},
   "outputs": [],
   "source": [
    "# testing audio playback\n",
    "\n",
    "sr = 44100\n",
    "\n",
    "audio_path = '/Users/SAMSUNG/Downloads/yaoo2.wav'\n",
    "wav = librosa.db_to_power(y_test[1], ref=1.0)\n",
    "wav = librosa.feature.inverse.mel_to_audio (M=wav, hop_length=518, sr=sr)\n",
    "write (audio_path, sr, wav.astype(np.float32))"
   ]
  },
  {
   "cell_type": "code",
   "execution_count": null,
   "metadata": {
    "id": "BUHtzKeCwtlT",
    "outputId": "cfcaa2a1-0224-43c1-ec90-59e4ff39951a"
   },
   "outputs": [
    {
     "name": "stdout",
     "output_type": "stream",
     "text": [
      "Collecting keras\n",
      "  Downloading Keras-2.4.3-py2.py3-none-any.whl (36 kB)\n",
      "Requirement already satisfied: numpy>=1.9.1 in c:\\users\\samsung\\anaconda3\\lib\\site-packages (from keras) (1.19.2)\n",
      "Requirement already satisfied: h5py in c:\\users\\samsung\\anaconda3\\lib\\site-packages (from keras) (2.10.0)\n",
      "Requirement already satisfied: pyyaml in c:\\users\\samsung\\anaconda3\\lib\\site-packages (from keras) (5.3.1)\n",
      "Requirement already satisfied: scipy>=0.14 in c:\\users\\samsung\\anaconda3\\lib\\site-packages (from keras) (1.5.2)\n",
      "Requirement already satisfied: six in c:\\users\\samsung\\anaconda3\\lib\\site-packages (from h5py->keras) (1.15.0)\n",
      "Installing collected packages: keras\n",
      "Successfully installed keras-2.4.3\n"
     ]
    }
   ],
   "source": [
    "! pip install keras"
   ]
  },
  {
   "cell_type": "code",
   "execution_count": null,
   "metadata": {
    "id": "bpuQoOOdwtlT",
    "outputId": "0712ee0a-2d2e-4729-9bb5-e6d1cadd8168"
   },
   "outputs": [
    {
     "name": "stdout",
     "output_type": "stream",
     "text": [
      "Collecting tensorflow\n",
      "  Downloading tensorflow-2.4.1-cp38-cp38-win_amd64.whl (370.7 MB)\n",
      "Collecting absl-py~=0.10\n",
      "  Downloading absl_py-0.12.0-py3-none-any.whl (129 kB)\n",
      "Collecting protobuf>=3.9.2\n",
      "  Downloading protobuf-3.15.8-py2.py3-none-any.whl (173 kB)\n",
      "Collecting tensorflow-estimator<2.5.0,>=2.4.0\n",
      "  Downloading tensorflow_estimator-2.4.0-py2.py3-none-any.whl (462 kB)\n",
      "Collecting flatbuffers~=1.12.0\n",
      "  Downloading flatbuffers-1.12-py2.py3-none-any.whl (15 kB)\n",
      "Collecting tensorboard~=2.4\n",
      "  Downloading tensorboard-2.5.0-py3-none-any.whl (6.0 MB)\n",
      "Collecting google-pasta~=0.2\n",
      "  Downloading google_pasta-0.2.0-py3-none-any.whl (57 kB)\n",
      "Requirement already satisfied: h5py~=2.10.0 in c:\\users\\samsung\\anaconda3\\lib\\site-packages (from tensorflow) (2.10.0)\n",
      "Collecting astunparse~=1.6.3\n",
      "  Downloading astunparse-1.6.3-py2.py3-none-any.whl (12 kB)\n",
      "Collecting grpcio~=1.32.0\n",
      "  Downloading grpcio-1.32.0-cp38-cp38-win_amd64.whl (2.6 MB)\n",
      "Collecting termcolor~=1.1.0\n",
      "  Downloading termcolor-1.1.0.tar.gz (3.9 kB)\n",
      "Requirement already satisfied: typing-extensions~=3.7.4 in c:\\users\\samsung\\anaconda3\\lib\\site-packages (from tensorflow) (3.7.4.3)\n",
      "Requirement already satisfied: wheel~=0.35 in c:\\users\\samsung\\anaconda3\\lib\\site-packages (from tensorflow) (0.35.1)\n",
      "Requirement already satisfied: numpy~=1.19.2 in c:\\users\\samsung\\anaconda3\\lib\\site-packages (from tensorflow) (1.19.2)\n",
      "Collecting wrapt~=1.12.1\n",
      "  Downloading wrapt-1.12.1.tar.gz (27 kB)\n",
      "Collecting gast==0.3.3\n",
      "  Downloading gast-0.3.3-py2.py3-none-any.whl (9.7 kB)\n",
      "Collecting keras-preprocessing~=1.1.2\n",
      "  Downloading Keras_Preprocessing-1.1.2-py2.py3-none-any.whl (42 kB)\n",
      "Collecting opt-einsum~=3.3.0\n",
      "  Downloading opt_einsum-3.3.0-py3-none-any.whl (65 kB)\n",
      "Requirement already satisfied: six~=1.15.0 in c:\\users\\samsung\\anaconda3\\lib\\site-packages (from tensorflow) (1.15.0)\n",
      "Requirement already satisfied: setuptools>=41.0.0 in c:\\users\\samsung\\anaconda3\\lib\\site-packages (from tensorboard~=2.4->tensorflow) (50.3.1.post20201107)\n",
      "Collecting markdown>=2.6.8\n",
      "  Downloading Markdown-3.3.4-py3-none-any.whl (97 kB)\n",
      "Requirement already satisfied: werkzeug>=0.11.15 in c:\\users\\samsung\\anaconda3\\lib\\site-packages (from tensorboard~=2.4->tensorflow) (1.0.1)\n",
      "Requirement already satisfied: requests<3,>=2.21.0 in c:\\users\\samsung\\anaconda3\\lib\\site-packages (from tensorboard~=2.4->tensorflow) (2.24.0)\n",
      "Collecting google-auth<2,>=1.6.3\n",
      "  Downloading google_auth-1.30.0-py2.py3-none-any.whl (146 kB)\n",
      "Collecting tensorboard-plugin-wit>=1.6.0\n",
      "  Downloading tensorboard_plugin_wit-1.8.0-py3-none-any.whl (781 kB)\n",
      "Collecting google-auth-oauthlib<0.5,>=0.4.1\n",
      "  Downloading google_auth_oauthlib-0.4.4-py2.py3-none-any.whl (18 kB)\n",
      "Collecting tensorboard-data-server<0.7.0,>=0.6.0\n",
      "  Downloading tensorboard_data_server-0.6.1-py3-none-any.whl (2.4 kB)\n",
      "Requirement already satisfied: urllib3!=1.25.0,!=1.25.1,<1.26,>=1.21.1 in c:\\users\\samsung\\anaconda3\\lib\\site-packages (from requests<3,>=2.21.0->tensorboard~=2.4->tensorflow) (1.25.11)\n",
      "Requirement already satisfied: certifi>=2017.4.17 in c:\\users\\samsung\\anaconda3\\lib\\site-packages (from requests<3,>=2.21.0->tensorboard~=2.4->tensorflow) (2020.6.20)\n",
      "Requirement already satisfied: idna<3,>=2.5 in c:\\users\\samsung\\anaconda3\\lib\\site-packages (from requests<3,>=2.21.0->tensorboard~=2.4->tensorflow) (2.10)\n",
      "Requirement already satisfied: chardet<4,>=3.0.2 in c:\\users\\samsung\\anaconda3\\lib\\site-packages (from requests<3,>=2.21.0->tensorboard~=2.4->tensorflow) (3.0.4)\n",
      "Collecting pyasn1-modules>=0.2.1\n",
      "  Downloading pyasn1_modules-0.2.8-py2.py3-none-any.whl (155 kB)\n",
      "Collecting rsa<5,>=3.1.4; python_version >= \"3.6\"\n",
      "  Downloading rsa-4.7.2-py3-none-any.whl (34 kB)\n",
      "Collecting cachetools<5.0,>=2.0.0\n",
      "  Downloading cachetools-4.2.2-py3-none-any.whl (11 kB)\n",
      "Collecting requests-oauthlib>=0.7.0\n",
      "  Downloading requests_oauthlib-1.3.0-py2.py3-none-any.whl (23 kB)\n",
      "Collecting pyasn1<0.5.0,>=0.4.6\n",
      "  Downloading pyasn1-0.4.8-py2.py3-none-any.whl (77 kB)\n",
      "Collecting oauthlib>=3.0.0\n",
      "  Downloading oauthlib-3.1.0-py2.py3-none-any.whl (147 kB)\n",
      "Building wheels for collected packages: termcolor, wrapt\n",
      "  Building wheel for termcolor (setup.py): started\n",
      "  Building wheel for termcolor (setup.py): finished with status 'done'\n",
      "  Created wheel for termcolor: filename=termcolor-1.1.0-py3-none-any.whl size=4835 sha256=fb8454f2f1b4e9e2bba87a5028a3cf61aa129faa2879f53484a61f3cfd7a722b\n",
      "  Stored in directory: c:\\users\\samsung\\appdata\\local\\pip\\cache\\wheels\\a0\\16\\9c\\5473df82468f958445479c59e784896fa24f4a5fc024b0f501\n",
      "  Building wheel for wrapt (setup.py): started\n",
      "  Building wheel for wrapt (setup.py): finished with status 'done'\n",
      "  Created wheel for wrapt: filename=wrapt-1.12.1-py3-none-any.whl size=19558 sha256=9edc9594e927391f0dc1390878bb8069ac94fbf9dc2a6e9648b4500dea7f369b\n",
      "  Stored in directory: c:\\users\\samsung\\appdata\\local\\pip\\cache\\wheels\\5f\\fd\\9e\\b6cf5890494cb8ef0b5eaff72e5d55a70fb56316007d6dfe73\n",
      "Successfully built termcolor wrapt\n",
      "Installing collected packages: absl-py, protobuf, tensorflow-estimator, flatbuffers, grpcio, markdown, pyasn1, pyasn1-modules, rsa, cachetools, google-auth, tensorboard-plugin-wit, oauthlib, requests-oauthlib, google-auth-oauthlib, tensorboard-data-server, tensorboard, google-pasta, astunparse, termcolor, wrapt, gast, keras-preprocessing, opt-einsum, tensorflow\n",
      "  Attempting uninstall: wrapt\n",
      "    Found existing installation: wrapt 1.11.2\n",
      "    Uninstalling wrapt-1.11.2:\n",
      "      Successfully uninstalled wrapt-1.11.2\n",
      "Successfully installed absl-py-0.12.0 astunparse-1.6.3 cachetools-4.2.2 flatbuffers-1.12 gast-0.3.3 google-auth-1.30.0 google-auth-oauthlib-0.4.4 google-pasta-0.2.0 grpcio-1.32.0 keras-preprocessing-1.1.2 markdown-3.3.4 oauthlib-3.1.0 opt-einsum-3.3.0 protobuf-3.15.8 pyasn1-0.4.8 pyasn1-modules-0.2.8 requests-oauthlib-1.3.0 rsa-4.7.2 tensorboard-2.5.0 tensorboard-data-server-0.6.1 tensorboard-plugin-wit-1.8.0 tensorflow-2.4.1 tensorflow-estimator-2.4.0 termcolor-1.1.0 wrapt-1.12.1\n"
     ]
    }
   ],
   "source": [
    "! pip install tensorflow"
   ]
  },
  {
   "cell_type": "code",
   "execution_count": 18,
   "metadata": {
    "id": "FgH_lvXPwtlU"
   },
   "outputs": [],
   "source": [
    "import keras\n",
    "from keras.models import Sequential\n",
    "from keras.layers import Dense, Dropout, Activation, Flatten, Reshape\n",
    "from keras.layers import Conv2D, Conv2DTranspose, MaxPool2D, LeakyReLU\n",
    "from keras.utils import np_utils\n",
    "\n",
    "from keras import backend as K"
   ]
  },
  {
   "cell_type": "code",
   "execution_count": null,
   "metadata": {
    "id": "hM8oC8ER_bBp"
   },
   "outputs": [],
   "source": [
    "\n",
    "x_train = np.load(\"/content/gdrive/My Drive/Classics_DNN/numpy_files/x_train.npy\")\n",
    "y_train = np.load(\"/content/gdrive/My Drive/Classics_DNN/numpy_files/y_train.npy\")\n",
    "x_test = np.load(\"/content/gdrive/My Drive/Classics_DNN/numpy_files/x_test.npy\")\n",
    "y_test = np.load(\"/content/gdrive/My Drive/Classics_DNN/numpy_files/y_test.npy\")\n"
   ]
  },
  {
   "cell_type": "markdown",
   "metadata": {
    "id": "PrQ_3nGA_wFO"
   },
   "source": [
    "## **Implement Baseline model with Linear Regression**\n",
    "\n",
    "Train data : 1275 images with input shape (128, 646)\n",
    "\n",
    "Test data : 158 images with input shape (128, 646)\n",
    "\n",
    "- Basic Linear Regression model"
   ]
  },
  {
   "cell_type": "code",
   "execution_count": 58,
   "metadata": {},
   "outputs": [],
   "source": [
    "x_train_1d = x_train.reshape(-1,1)\n",
    "x_test_1d = x_test.reshape(-1,1)\n",
    "\n",
    "y_train_1d = y_train.reshape(-1,1)\n",
    "y_test_1d = y_test.reshape(-1,1)"
   ]
  },
  {
   "cell_type": "code",
   "execution_count": 60,
   "metadata": {},
   "outputs": [],
   "source": [
    "from sklearn.linear_model import LinearRegression\n",
    "\n",
    "clf = LinearRegression()\n",
    "\n",
    "clf.fit(x_train_1d, y_train_1d)\n",
    "y_pred = clf.predict(x_test_1d)\n"
   ]
  },
  {
   "cell_type": "code",
   "execution_count": 62,
   "metadata": {},
   "outputs": [
    {
     "name": "stdout",
     "output_type": "stream",
     "text": [
      "MAE: 9.343149\n",
      "MSE: 167.1632\n"
     ]
    }
   ],
   "source": [
    "from sklearn import metrics\n",
    "from sklearn.metrics import mean_absolute_error\n",
    "from sklearn.metrics import mean_squared_error\n",
    "\n",
    "print(\"MAE:\",mean_absolute_error(y_test_1d, y_pred))\n",
    "print(\"MSE:\",mean_squared_error(y_test_1d, y_pred))\n"
   ]
  },
  {
   "cell_type": "markdown",
   "metadata": {
    "id": "psCWoerr6Xie"
   },
   "source": [
    "## **First model**\n",
    "Train data : 1275 images with input shape (128, 646, 1)\n",
    "\n",
    "Test data : 158 images with input shape (128, 646, 1)\n",
    "\n",
    "- Basic CNN model with minimum parameters\n"
   ]
  },
  {
   "cell_type": "code",
   "execution_count": 17,
   "metadata": {
    "id": "duT-iFbNwtlT"
   },
   "outputs": [],
   "source": [
    "\n",
    "from keras.wrappers.scikit_learn import KerasRegressor\n",
    "from sklearn.model_selection import cross_val_score\n",
    "from sklearn.model_selection import KFold\n",
    "from sklearn.preprocessing import StandardScaler\n",
    "from sklearn.pipeline import Pipeline\n",
    "\n",
    "import numpy as np\n"
   ]
  },
  {
   "cell_type": "code",
   "execution_count": 25,
   "metadata": {},
   "outputs": [],
   "source": [
    "x_train_expanded = np.expand_dims(x_train, -1)\n",
    "y_train_expanded = np.expand_dims(y_train, -1)\n",
    "x_test_expanded = np.expand_dims(x_test, -1)\n",
    "y_test_expanded = np.expand_dims(y_test, -1)\n"
   ]
  },
  {
   "cell_type": "code",
   "execution_count": 27,
   "metadata": {
    "colab": {
     "base_uri": "https://localhost:8080/"
    },
    "id": "naCPrC2kwtlU",
    "outputId": "7a3261ec-7b06-4418-ca55-b17787d243f7"
   },
   "outputs": [
    {
     "data": {
      "text/plain": [
       "((1275, 128, 646, 1),\n",
       " (1275, 128, 646, 1),\n",
       " (158, 128, 646, 1),\n",
       " (158, 128, 646, 1))"
      ]
     },
     "execution_count": 27,
     "metadata": {},
     "output_type": "execute_result"
    }
   ],
   "source": [
    "x_train_expanded.shape, y_train_expanded.shape, x_test_expanded.shape, y_test_expanded.shape"
   ]
  },
  {
   "cell_type": "code",
   "execution_count": 20,
   "metadata": {
    "id": "lfA7PzcWwtlU"
   },
   "outputs": [],
   "source": [
    "def r2_keras(y_true, y_pred):\n",
    "    SS_res =  K.sum(K.square( y_true - y_pred )) \n",
    "    SS_tot = K.sum(K.square( y_true - K.mean(y_true) ) ) \n",
    "    return ( 1 - SS_res/(SS_tot + K.epsilon()) )"
   ]
  },
  {
   "cell_type": "code",
   "execution_count": 29,
   "metadata": {
    "colab": {
     "base_uri": "https://localhost:8080/"
    },
    "id": "IZe48yzSwtlU",
    "outputId": "d06d8b3c-62e6-41f7-c90b-00064c790677"
   },
   "outputs": [
    {
     "name": "stdout",
     "output_type": "stream",
     "text": [
      "Model: \"sequential_2\"\n",
      "_________________________________________________________________\n",
      "Layer (type)                 Output Shape              Param #   \n",
      "=================================================================\n",
      "conv2d_2 (Conv2D)            (None, 128, 646, 1)       10        \n",
      "_________________________________________________________________\n",
      "max_pooling2d_1 (MaxPooling2 (None, 64, 323, 1)        0         \n",
      "_________________________________________________________________\n",
      "dropout_1 (Dropout)          (None, 64, 323, 1)        0         \n",
      "_________________________________________________________________\n",
      "conv2d_transpose_1 (Conv2DTr (None, 128, 646, 1)       17        \n",
      "_________________________________________________________________\n",
      "leaky_re_lu_1 (LeakyReLU)    (None, 128, 646, 1)       0         \n",
      "_________________________________________________________________\n",
      "dense_1 (Dense)              (None, 128, 646, 1)       2         \n",
      "=================================================================\n",
      "Total params: 29\n",
      "Trainable params: 29\n",
      "Non-trainable params: 0\n",
      "_________________________________________________________________\n"
     ]
    }
   ],
   "source": [
    "\n",
    "model = Sequential()\n",
    "\n",
    "model.add(Conv2D(1, kernel_size=(3,3), strides=(1,1), padding='same', activation='relu', input_shape=(128, 646, 1)))\n",
    "\n",
    "model.add(MaxPool2D(pool_size=(2,2)))\n",
    "model.add(Dropout(0.25))\n",
    "\n",
    "model.add(Conv2DTranspose(1, (4,4), strides=(2,2), padding='same'))\n",
    "model.add(LeakyReLU(alpha=0.2))\n",
    "\n",
    "# output layer\n",
    "model.add(Dense(1, activation='linear'))\n",
    "\n",
    "model.summary()"
   ]
  },
  {
   "cell_type": "code",
   "execution_count": 32,
   "metadata": {
    "colab": {
     "base_uri": "https://localhost:8080/"
    },
    "id": "XgGk2QNvwtlU",
    "outputId": "5e3e5a2f-c14c-4205-f8a6-a36117f6474f"
   },
   "outputs": [
    {
     "name": "stdout",
     "output_type": "stream",
     "text": [
      "Epoch 1/10\n",
      "40/40 [==============================] - 11s 272ms/step - loss: 1891.4437 - mae: 37.2413 - val_loss: 1325.6895 - val_mae: 29.6167\n",
      "Epoch 2/10\n",
      "40/40 [==============================] - 11s 272ms/step - loss: 1343.1047 - mae: 29.2490 - val_loss: 782.9340 - val_mae: 21.8485\n",
      "Epoch 3/10\n",
      "40/40 [==============================] - 11s 278ms/step - loss: 872.1330 - mae: 22.6594 - val_loss: 402.6711 - val_mae: 15.1970\n",
      "Epoch 4/10\n",
      "40/40 [==============================] - 11s 278ms/step - loss: 610.2521 - mae: 18.4817 - val_loss: 262.7296 - val_mae: 12.3343\n",
      "Epoch 5/10\n",
      "40/40 [==============================] - 11s 278ms/step - loss: 494.7248 - mae: 16.3199 - val_loss: 223.5286 - val_mae: 11.4103\n",
      "Epoch 6/10\n",
      "40/40 [==============================] - 11s 282ms/step - loss: 434.5436 - mae: 15.0866 - val_loss: 209.8755 - val_mae: 11.0297\n",
      "Epoch 7/10\n",
      "40/40 [==============================] - 12s 299ms/step - loss: 404.1499 - mae: 14.6664 - val_loss: 204.0379 - val_mae: 10.8490\n",
      "Epoch 8/10\n",
      "40/40 [==============================] - 12s 292ms/step - loss: 378.6004 - mae: 14.3200 - val_loss: 199.9163 - val_mae: 10.7093\n",
      "Epoch 9/10\n",
      "40/40 [==============================] - 12s 293ms/step - loss: 362.9328 - mae: 14.0728 - val_loss: 197.3145 - val_mae: 10.6179\n",
      "Epoch 10/10\n",
      "40/40 [==============================] - 12s 293ms/step - loss: 346.7894 - mae: 13.8106 - val_loss: 194.3996 - val_mae: 10.5101\n"
     ]
    }
   ],
   "source": [
    "# compiling the sequential model\n",
    "model.compile(loss='mse', metrics=['mae'], optimizer='adam')\n",
    "\n",
    "# training the model for 10 epochs\n",
    "history = model.fit(y_train_expanded, y_train_expanded, epochs=10, validation_data=(x_test_expanded, y_test_expanded))\n"
   ]
  },
  {
   "cell_type": "code",
   "execution_count": 33,
   "metadata": {
    "colab": {
     "base_uri": "https://localhost:8080/",
     "height": 295
    },
    "id": "Tt9CGdwJKGh9",
    "outputId": "848a2820-6969-4332-e124-19f0c1224ac7"
   },
   "outputs": [
    {
     "data": {
      "image/png": "[encoded data removed]",
      "text/plain": [
       "<Figure size 432x288 with 1 Axes>"
      ]
     },
     "metadata": {
      "needs_background": "light"
     },
     "output_type": "display_data"
    }
   ],
   "source": [
    "import matplotlib.pyplot as plt\n",
    "\n",
    "epochs = 10\n",
    "train_loss = history.history['loss']\n",
    "val_loss = history.history['val_loss']\n",
    "\n",
    "epochs = range(epochs)\n",
    "\n",
    "plt.figure()\n",
    "plt.plot(epochs, train_loss, 'r', label='Training loss')\n",
    "plt.plot(epochs, val_loss, 'b', label='Validation loss')\n",
    "plt.title('Training and Validation Loss')\n",
    "plt.xlabel('Epoch')\n",
    "plt.ylabel('Loss Value')\n",
    "\n",
    "plt.legend()\n",
    "plt.show()"
   ]
  },
  {
   "cell_type": "markdown",
   "metadata": {
    "id": "u_bpK6bL7woI"
   },
   "source": [
    "- Here we can see the **steady decrease in loss value** for both train and validation data - can run for more epochs with higher learning rate"
   ]
  },
  {
   "cell_type": "markdown",
   "metadata": {
    "id": "rjq7HhC_8Q8T"
   },
   "source": [
    "## **Second model**\n",
    "Train data : 1275 images with input shape (128, 646, 1)\n",
    "\n",
    "Test data : 158 images with input shape (128, 646, 1)\n",
    "\n",
    "- Slightly developed CNN model with more Convolution layers, LeakyRelu and additional nodes.\n",
    "- **Deep and narrow** layers with few nodes in each layer\n"
   ]
  },
  {
   "cell_type": "code",
   "execution_count": 68,
   "metadata": {
    "colab": {
     "base_uri": "https://localhost:8080/"
    },
    "id": "v_W6oW6D9wsg",
    "outputId": "92d4ade8-1284-4c84-9c01-4f6465864aa1"
   },
   "outputs": [
    {
     "name": "stdout",
     "output_type": "stream",
     "text": [
      "Model: \"sequential_17\"\n",
      "_________________________________________________________________\n",
      "Layer (type)                 Output Shape              Param #   \n",
      "=================================================================\n",
      "conv2d_62 (Conv2D)           (None, 128, 646, 1)       10        \n",
      "_________________________________________________________________\n",
      "conv2d_63 (Conv2D)           (None, 128, 646, 5)       50        \n",
      "_________________________________________________________________\n",
      "conv2d_transpose_41 (Conv2DT (None, 256, 1292, 2)      162       \n",
      "_________________________________________________________________\n",
      "leaky_re_lu_45 (LeakyReLU)   (None, 256, 1292, 2)      0         \n",
      "_________________________________________________________________\n",
      "conv2d_64 (Conv2D)           (None, 256, 1292, 5)      15        \n",
      "_________________________________________________________________\n",
      "max_pooling2d_38 (MaxPooling (None, 256, 1292, 5)      0         \n",
      "_________________________________________________________________\n",
      "conv2d_65 (Conv2D)           (None, 256, 1292, 5)      230       \n",
      "_________________________________________________________________\n",
      "max_pooling2d_39 (MaxPooling (None, 128, 646, 5)       0         \n",
      "_________________________________________________________________\n",
      "conv2d_transpose_42 (Conv2DT (None, 256, 1292, 2)      162       \n",
      "_________________________________________________________________\n",
      "leaky_re_lu_46 (LeakyReLU)   (None, 256, 1292, 2)      0         \n",
      "_________________________________________________________________\n",
      "conv2d_66 (Conv2D)           (None, 128, 646, 5)       165       \n",
      "_________________________________________________________________\n",
      "leaky_re_lu_47 (LeakyReLU)   (None, 128, 646, 5)       0         \n",
      "_________________________________________________________________\n",
      "dropout_16 (Dropout)         (None, 128, 646, 5)       0         \n",
      "_________________________________________________________________\n",
      "dense_16 (Dense)             (None, 128, 646, 1)       6         \n",
      "=================================================================\n",
      "Total params: 800\n",
      "Trainable params: 800\n",
      "Non-trainable params: 0\n",
      "_________________________________________________________________\n"
     ]
    }
   ],
   "source": [
    "\n",
    "model2 = Sequential()\n",
    "\n",
    "model2.add(Conv2D(1, kernel_size=(3,3), strides=(1,1), padding='same', activation='relu', input_shape=(128, 646, 1)))\n",
    "\n",
    "# convolutional layer\n",
    "model2.add(Conv2D(5, kernel_size=(3,3), strides=(1,1), padding='same', activation='relu'))\n",
    "\n",
    "model2.add(Conv2DTranspose(2, (4,4), strides=(2,2), padding='same'))\n",
    "model2.add(LeakyReLU(alpha=0.2))\n",
    "\n",
    "model2.add(Conv2D(5, kernel_size=(1,1), strides=(1,1), padding='same', activation='relu'))\n",
    "model2.add(MaxPool2D(pool_size=(1,1)))\n",
    "\n",
    "model2.add(Conv2D(5, kernel_size=(3,3), strides=(1,1), padding='same', activation='relu'))\n",
    "model2.add(MaxPool2D(pool_size=(2,2)))\n",
    "\n",
    "model2.add(Conv2DTranspose(2, (4,4), strides=(2,2), padding='same'))\n",
    "model2.add(LeakyReLU(alpha=0.2))\n",
    "\n",
    "model2.add(Conv2D(5, (4,4), strides=(2,2), padding='same'))\n",
    "model2.add(LeakyReLU(alpha=0.2))\n",
    "\n",
    "model2.add(Dropout(0.25))\n",
    "\n",
    "model2.add(Dense(1, activation='linear'))\n",
    "\n",
    "model2.summary()"
   ]
  },
  {
   "cell_type": "code",
   "execution_count": 69,
   "metadata": {
    "colab": {
     "base_uri": "https://localhost:8080/"
    },
    "id": "ZlltwgunBiI4",
    "outputId": "40994c8b-855c-4ca8-cb07-eb53fe3c9c23"
   },
   "outputs": [
    {
     "name": "stdout",
     "output_type": "stream",
     "text": [
      "Epoch 1/10\n",
      "40/40 [==============================] - 141s 4s/step - loss: 2654.6512 - mae: 46.5722 - val_loss: 537.6698 - val_mae: 19.2399\n",
      "Epoch 2/10\n",
      "40/40 [==============================] - 141s 4s/step - loss: 446.8588 - mae: 15.9674 - val_loss: 194.8668 - val_mae: 9.7015\n",
      "Epoch 3/10\n",
      "40/40 [==============================] - 141s 4s/step - loss: 322.7370 - mae: 13.3815 - val_loss: 203.0530 - val_mae: 10.1607\n",
      "Epoch 4/10\n",
      "40/40 [==============================] - 142s 4s/step - loss: 287.7554 - mae: 12.6527 - val_loss: 198.7778 - val_mae: 9.9716\n",
      "Epoch 5/10\n",
      "40/40 [==============================] - 143s 4s/step - loss: 253.3438 - mae: 11.7317 - val_loss: 196.2270 - val_mae: 9.9165\n",
      "Epoch 6/10\n",
      "40/40 [==============================] - 143s 4s/step - loss: 230.1997 - mae: 11.0910 - val_loss: 193.8846 - val_mae: 9.9074\n",
      "Epoch 7/10\n",
      "40/40 [==============================] - 144s 4s/step - loss: 206.3282 - mae: 10.4527 - val_loss: 189.4056 - val_mae: 9.8434\n",
      "Epoch 8/10\n",
      "40/40 [==============================] - 143s 4s/step - loss: 198.6795 - mae: 10.1999 - val_loss: 186.5693 - val_mae: 9.8580\n",
      "Epoch 9/10\n",
      "40/40 [==============================] - 143s 4s/step - loss: 189.8253 - mae: 9.8782 - val_loss: 186.1295 - val_mae: 9.8787\n",
      "Epoch 10/10\n",
      "40/40 [==============================] - 145s 4s/step - loss: 183.1502 - mae: 9.5964 - val_loss: 186.0891 - val_mae: 9.8797\n"
     ]
    }
   ],
   "source": [
    "# compiling the sequential model\n",
    "model2.compile(loss='mse', metrics=['mae'], optimizer='adam')\n",
    "\n",
    "# training the model\n",
    "history2 = model2.fit(y_train_expanded, y_train_expanded, epochs=10, validation_data=(x_test_expanded, y_test_expanded))\n"
   ]
  },
  {
   "cell_type": "code",
   "execution_count": 75,
   "metadata": {
    "colab": {
     "base_uri": "https://localhost:8080/",
     "height": 295
    },
    "id": "pfD4WEoUKkZw",
    "outputId": "707a3fdd-df1b-4726-a8ab-04e554ded215"
   },
   "outputs": [
    {
     "data": {
      "image/png": "[encoded data removed]",
      "text/plain": [
       "<Figure size 432x288 with 1 Axes>"
      ]
     },
     "metadata": {
      "needs_background": "light"
     },
     "output_type": "display_data"
    }
   ],
   "source": [
    "import matplotlib.pyplot as plt\n",
    "\n",
    "epochs = 10\n",
    "train_loss2 = history2.history['mae']\n",
    "val_loss2 = history2.history['val_mae']\n",
    "\n",
    "epochs = range(epochs)\n",
    "\n",
    "plt.figure()\n",
    "plt.plot(epochs, train_loss2, 'r', label='Training loss')\n",
    "plt.plot(epochs, val_loss2, 'b', label='Validation loss')\n",
    "plt.title('Training and Validation Loss')\n",
    "plt.xlabel('Epoch')\n",
    "plt.ylabel('Loss Value')\n",
    "plt.legend()\n",
    "plt.show()"
   ]
  },
  {
   "cell_type": "markdown",
   "metadata": {
    "id": "caz5roOg9pD9"
   },
   "source": [
    "- We can see the **training and validation loss overlaps at epoch eight**. Training loss may continue to steadily decrease, but the model training needs to stop early for generalization trade-off. Also the loss scores are much lower than the First Model."
   ]
  },
  {
   "cell_type": "markdown",
   "metadata": {
    "id": "Uf2u5dMk-boM"
   },
   "source": [
    "## **Third model**\n",
    "Train data : 1275 images with input shape (128, 646, 1)\n",
    "\n",
    "Test data : 158 images with input shape (128, 646, 1)\n",
    "\n",
    "\n",
    "- Complex CNN model with more Conv layers, MaxPooling, LeakyRelu and additional nodes.\n",
    "- **Shallow and wide** layers with more nodes on each layer"
   ]
  },
  {
   "cell_type": "code",
   "execution_count": 71,
   "metadata": {
    "colab": {
     "base_uri": "https://localhost:8080/"
    },
    "id": "xsKAvvTWkBlh",
    "outputId": "04d02eab-151d-4ec5-ef1a-73e7f83f479e"
   },
   "outputs": [
    {
     "name": "stdout",
     "output_type": "stream",
     "text": [
      "Model: \"sequential_18\"\n",
      "_________________________________________________________________\n",
      "Layer (type)                 Output Shape              Param #   \n",
      "=================================================================\n",
      "conv2d_67 (Conv2D)           (None, 128, 646, 25)      250       \n",
      "_________________________________________________________________\n",
      "conv2d_68 (Conv2D)           (None, 128, 646, 40)      9040      \n",
      "_________________________________________________________________\n",
      "max_pooling2d_40 (MaxPooling (None, 64, 323, 40)       0         \n",
      "_________________________________________________________________\n",
      "conv2d_transpose_43 (Conv2DT (None, 128, 646, 20)      12820     \n",
      "_________________________________________________________________\n",
      "leaky_re_lu_48 (LeakyReLU)   (None, 128, 646, 20)      0         \n",
      "_________________________________________________________________\n",
      "conv2d_69 (Conv2D)           (None, 128, 646, 20)      3620      \n",
      "_________________________________________________________________\n",
      "max_pooling2d_41 (MaxPooling (None, 64, 323, 20)       0         \n",
      "_________________________________________________________________\n",
      "conv2d_transpose_44 (Conv2DT (None, 128, 646, 40)      12840     \n",
      "_________________________________________________________________\n",
      "leaky_re_lu_49 (LeakyReLU)   (None, 128, 646, 40)      0         \n",
      "_________________________________________________________________\n",
      "dropout_17 (Dropout)         (None, 128, 646, 40)      0         \n",
      "_________________________________________________________________\n",
      "dense_17 (Dense)             (None, 128, 646, 1)       41        \n",
      "=================================================================\n",
      "Total params: 38,611\n",
      "Trainable params: 38,611\n",
      "Non-trainable params: 0\n",
      "_________________________________________________________________\n"
     ]
    }
   ],
   "source": [
    "\n",
    "model3 = Sequential()\n",
    "\n",
    "model3.add(Conv2D(25, kernel_size=(3,3), strides=(1,1), padding='same', activation='relu', input_shape=(128, 646, 1)))\n",
    "\n",
    "# convolutional layer\n",
    "model3.add(Conv2D(40, kernel_size=(3,3), strides=(1,1), padding='same', activation='relu'))\n",
    "model3.add(MaxPool2D(pool_size=(2,2)))\n",
    "\n",
    "model3.add(Conv2DTranspose(20, (4,4), strides=(2,2), padding='same'))\n",
    "model3.add(LeakyReLU(alpha=0.2))\n",
    "\n",
    "model3.add(Conv2D(20, kernel_size=(3,3), strides=(1,1), padding='same', activation='relu'))\n",
    "model3.add(MaxPool2D(pool_size=(2,2)))\n",
    "\n",
    "model3.add(Conv2DTranspose(40, (4,4), strides=(2,2), padding='same'))\n",
    "model3.add(LeakyReLU(alpha=0.2))\n",
    "model3.add(Dropout(0.25))\n",
    "\n",
    "# output layer\n",
    "model3.add(Dense(1, activation='linear'))\n",
    "\n",
    "model3.summary()"
   ]
  },
  {
   "cell_type": "code",
   "execution_count": 74,
   "metadata": {
    "colab": {
     "base_uri": "https://localhost:8080/"
    },
    "id": "4OatjB3ykSr5",
    "outputId": "98943d3e-4e62-4b6b-da02-bd77ffcb204c"
   },
   "outputs": [
    {
     "name": "stdout",
     "output_type": "stream",
     "text": [
      "Epoch 1/10\n",
      "40/40 [==============================] - 196s 5s/step - loss: 122.8102 - mae: 8.2443 - val_loss: 172.3683 - val_mae: 9.2375\n",
      "Epoch 2/10\n",
      "40/40 [==============================] - 194s 5s/step - loss: 31.4855 - mae: 4.2435 - val_loss: 173.4465 - val_mae: 9.2154\n",
      "Epoch 3/10\n",
      "40/40 [==============================] - 195s 5s/step - loss: 28.4534 - mae: 4.0241 - val_loss: 174.1795 - val_mae: 9.2336\n",
      "Epoch 4/10\n",
      "40/40 [==============================] - 195s 5s/step - loss: 27.9276 - mae: 3.9786 - val_loss: 174.8868 - val_mae: 9.2529\n",
      "Epoch 5/10\n",
      "40/40 [==============================] - 195s 5s/step - loss: 27.1692 - mae: 3.9105 - val_loss: 175.3895 - val_mae: 9.2652\n",
      "Epoch 6/10\n",
      "40/40 [==============================] - 194s 5s/step - loss: 26.9910 - mae: 3.8866 - val_loss: 175.7831 - val_mae: 9.2772\n",
      "Epoch 7/10\n",
      "40/40 [==============================] - 195s 5s/step - loss: 25.9763 - mae: 3.8088 - val_loss: 176.4245 - val_mae: 9.2951\n",
      "Epoch 8/10\n",
      "40/40 [==============================] - 194s 5s/step - loss: 25.7403 - mae: 3.7787 - val_loss: 176.7096 - val_mae: 9.3034\n",
      "Epoch 9/10\n",
      "40/40 [==============================] - 197s 5s/step - loss: 25.3870 - mae: 3.7419 - val_loss: 177.0373 - val_mae: 9.3157\n",
      "Epoch 10/10\n",
      "40/40 [==============================] - 196s 5s/step - loss: 24.8866 - mae: 3.6954 - val_loss: 177.4922 - val_mae: 9.3284\n"
     ]
    }
   ],
   "source": [
    "# compiling the sequential model\n",
    "model3.compile(loss='mse', metrics=['mae'], optimizer='adam')\n",
    "\n",
    "# training the model\n",
    "history3 = model3.fit(y_train_expanded, y_train_expanded, epochs=10, validation_data=(x_test_expanded, y_test_expanded))\n"
   ]
  },
  {
   "cell_type": "code",
   "execution_count": 76,
   "metadata": {
    "colab": {
     "base_uri": "https://localhost:8080/",
     "height": 295
    },
    "id": "IHbA5e-QwC3I",
    "outputId": "80cc98e9-f6a2-471c-9f47-6befddbbf776"
   },
   "outputs": [
    {
     "data": {
      "image/png": "[encoded data removed]",
      "text/plain": [
       "<Figure size 432x288 with 1 Axes>"
      ]
     },
     "metadata": {
      "needs_background": "light"
     },
     "output_type": "display_data"
    }
   ],
   "source": [
    "import matplotlib.pyplot as plt\n",
    "\n",
    "epochs = 10\n",
    "train_loss3 = history3.history['mae']\n",
    "val_loss3 = history3.history['val_mae']\n",
    "\n",
    "epochs = range(epochs)\n",
    "\n",
    "plt.figure()\n",
    "plt.plot(epochs, train_loss3, 'r', label='Training loss')\n",
    "plt.plot(epochs, val_loss3, 'b', label='Validation loss')\n",
    "plt.title('Training and Validation Loss')\n",
    "plt.xlabel('Epoch')\n",
    "plt.ylabel('Loss Value')\n",
    "\n",
    "plt.legend()\n",
    "plt.show()"
   ]
  },
  {
   "cell_type": "markdown",
   "metadata": {
    "id": "7faPzl7yA0pM"
   },
   "source": [
    "- Model three converges too fast that validation loss is lost from the first epoch"
   ]
  },
  {
   "cell_type": "markdown",
   "metadata": {
    "id": "BSj5Nf-7IM3E"
   },
   "source": [
    "## **Combined Train and Validation graphs** from Previous Models"
   ]
  },
  {
   "cell_type": "code",
   "execution_count": 83,
   "metadata": {
    "colab": {
     "base_uri": "https://localhost:8080/",
     "height": 295
    },
    "id": "3Q2881ep5kAG",
    "outputId": "16276170-4190-4329-92f0-46faee1dd074"
   },
   "outputs": [
    {
     "data": {
      "image/png": "[encoded data removed]",
      "text/plain": [
       "<Figure size 432x288 with 1 Axes>"
      ]
     },
     "metadata": {
      "needs_background": "light"
     },
     "output_type": "display_data"
    }
   ],
   "source": [
    "import matplotlib.pyplot as plt\n",
    "\n",
    "epochs = 10\n",
    "\n",
    "epochs = range(epochs)\n",
    "\n",
    "plt.figure()\n",
    "plt.plot(epochs, train_loss, label='model 1 training loss')\n",
    "plt.plot(epochs, train_loss2,  label='model 2 training loss')\n",
    "plt.plot(epochs, train_loss3,  label='model 3 training loss')\n",
    "\n",
    "plt.title('Training Loss on Different Models')\n",
    "plt.xlabel('Epoch')\n",
    "plt.ylabel('Loss Value')\n",
    "plt.ylim([0, 50])\n",
    "# plt.xlim([0, 10])\n",
    "plt.legend()\n",
    "plt.show()"
   ]
  },
  {
   "cell_type": "markdown",
   "metadata": {
    "id": "wSkoK5KGKpZq"
   },
   "source": [
    "- Training Loss : **Fastest convergence on Model 3** - and possibility of reaching smaller loss value if run with more epochs."
   ]
  },
  {
   "cell_type": "code",
   "execution_count": 86,
   "metadata": {
    "colab": {
     "base_uri": "https://localhost:8080/",
     "height": 295
    },
    "id": "NH4_pEH7Kdm7",
    "outputId": "c7837d5d-997e-4240-a915-693d70527be5"
   },
   "outputs": [
    {
     "data": {
      "image/png": "[encoded data removed]",
      "text/plain": [
       "<Figure size 432x288 with 1 Axes>"
      ]
     },
     "metadata": {
      "needs_background": "light"
     },
     "output_type": "display_data"
    }
   ],
   "source": [
    "import matplotlib.pyplot as plt\n",
    "\n",
    "epochs = 10\n",
    "# train_loss4 = history4.history['mae']\n",
    "# val_loss4 = history4.history['val_mae']\n",
    "\n",
    "epochs = range(epochs)\n",
    "\n",
    "plt.figure()\n",
    "plt.plot(epochs, val_loss, label='model 1 validation loss')\n",
    "plt.plot(epochs, val_loss2,  label='model 2 validation loss')\n",
    "plt.plot(epochs, val_loss3,  label='model 3 validation loss')\n",
    "# plt.plot(epochs, val_loss4,  label='model 4 validation loss')\n",
    "\n",
    "plt.title('Validation Loss on Different Models')\n",
    "plt.xlabel('Epoch')\n",
    "plt.ylabel('Loss Value')\n",
    "plt.ylim([5, 20])\n",
    "# plt.xlim([0, 10])\n",
    "plt.legend()\n",
    "plt.show()"
   ]
  },
  {
   "cell_type": "markdown",
   "metadata": {
    "id": "zIHyaqEnK98z"
   },
   "source": [
    "- Validation Loss : **No significant change after epoch 1** -  Model 1 is not found in this graph since the error rate was out of bounds."
   ]
  },
  {
   "cell_type": "code",
   "execution_count": null,
   "metadata": {},
   "outputs": [],
   "source": []
  }
 ],
 "metadata": {
  "accelerator": "GPU",
  "colab": {
   "include_colab_link": true,
   "name": "02_Spectogram_BasicCNN.ipynb",
   "provenance": []
  },
  "kernelspec": {
   "display_name": "Python 3",
   "language": "python",
   "name": "python3"
  },
  "language_info": {
   "codemirror_mode": {
    "name": "ipython",
    "version": 3
   },
   "file_extension": ".py",
   "mimetype": "text/x-python",
   "name": "python",
   "nbconvert_exporter": "python",
   "pygments_lexer": "ipython3",
   "version": "3.8.5"
  }
 },
 "nbformat": 4,
 "nbformat_minor": 1
}
